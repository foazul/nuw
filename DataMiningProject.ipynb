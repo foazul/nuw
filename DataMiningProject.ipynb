{
  "nbformat": 4,
  "nbformat_minor": 0,
  "metadata": {
    "colab": {
      "name": "DataMiningProject.ipynb",
      "version": "0.3.2",
      "provenance": [],
      "collapsed_sections": []
    },
    "kernelspec": {
      "name": "python3",
      "display_name": "Python 3"
    }
  },
  "cells": [
    {
      "metadata": {
        "id": "XV2kaVB1wpAD",
        "colab_type": "code",
        "colab": {}
      },
      "cell_type": "code",
      "source": [
        "import numpy as np\n",
        "import scipy\n",
        "import pandas as pd\n",
        "from sklearn import preprocessing as preproc\n",
        "from sklearn.cluster import KMeans\n",
        "import matplotlib.pyplot as plt\n",
        "import datetime\n",
        "import random"
      ],
      "execution_count": 0,
      "outputs": []
    },
    {
      "metadata": {
        "id": "3QypCRUv9qCt",
        "colab_type": "code",
        "colab": {}
      },
      "cell_type": "code",
      "source": [
        ""
      ],
      "execution_count": 0,
      "outputs": []
    },
    {
      "metadata": {
        "id": "th7OwZWSx07u",
        "colab_type": "code",
        "colab": {}
      },
      "cell_type": "code",
      "source": [
        "#SEE: Google Colab's 'External data: Drive, Sheets, and Cloud Storage'\n",
        "from google.colab import files"
      ],
      "execution_count": 0,
      "outputs": []
    },
    {
      "metadata": {
        "id": "W4tPGKgiyqBq",
        "colab_type": "code",
        "outputId": "82a3d1c4-93d5-4d47-8154-b751ffa529d0",
        "colab": {
          "resources": {
            "http://localhost:8080/nbextensions/google.colab/files.js": {
              "data": "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",
              "ok": true,
              "headers": [
                [
                  "content-type",
                  "application/javascript"
                ]
              ],
              "status": 200,
              "status_text": ""
            }
          },
          "base_uri": "https://localhost:8080/",
          "height": 72
        }
      },
      "cell_type": "code",
      "source": [
        "#upload file to colab\n",
        "\n",
        "\n",
        "from google.colab import files\n",
        "uploaded = files.upload()"
      ],
      "execution_count": 3,
      "outputs": [
        {
          "output_type": "display_data",
          "data": {
            "text/html": [
              "\n",
              "     <input type=\"file\" id=\"files-a880a44f-1ff3-413e-b06f-8f68f5a3f627\" name=\"files[]\" multiple disabled />\n",
              "     <output id=\"result-a880a44f-1ff3-413e-b06f-8f68f5a3f627\">\n",
              "      Upload widget is only available when the cell has been executed in the\n",
              "      current browser session. Please rerun this cell to enable.\n",
              "      </output>\n",
              "      <script src=\"/nbextensions/google.colab/files.js\"></script> "
            ],
            "text/plain": [
              "<IPython.core.display.HTML object>"
            ]
          },
          "metadata": {
            "tags": []
          }
        },
        {
          "output_type": "stream",
          "text": [
            "Saving A2Z Insurance.csv to A2Z Insurance.csv\n"
          ],
          "name": "stdout"
        }
      ]
    },
    {
      "metadata": {
        "id": "me-0V4AVzqzR",
        "colab_type": "code",
        "colab": {}
      },
      "cell_type": "code",
      "source": [
        "import io\n",
        "\n",
        "abt = pd.read_csv(io.StringIO(uploaded['A2Z Insurance.csv'].decode('utf-8')))\n"
      ],
      "execution_count": 0,
      "outputs": []
    },
    {
      "metadata": {
        "id": "aX0u1-fJw7Mv",
        "colab_type": "code",
        "outputId": "ffd7aa5f-9109-49b5-f3d9-abd953037974",
        "colab": {
          "base_uri": "https://localhost:8080/",
          "height": 210
        }
      },
      "cell_type": "code",
      "source": [
        "abt.head(3)"
      ],
      "execution_count": 7,
      "outputs": [
        {
          "output_type": "execute_result",
          "data": {
            "text/html": [
              "<div>\n",
              "<style scoped>\n",
              "    .dataframe tbody tr th:only-of-type {\n",
              "        vertical-align: middle;\n",
              "    }\n",
              "\n",
              "    .dataframe tbody tr th {\n",
              "        vertical-align: top;\n",
              "    }\n",
              "\n",
              "    .dataframe thead th {\n",
              "        text-align: right;\n",
              "    }\n",
              "</style>\n",
              "<table border=\"1\" class=\"dataframe\">\n",
              "  <thead>\n",
              "    <tr style=\"text-align: right;\">\n",
              "      <th></th>\n",
              "      <th>Customer Identity</th>\n",
              "      <th>First Policy´s Year</th>\n",
              "      <th>Brithday Year</th>\n",
              "      <th>Educational Degree</th>\n",
              "      <th>Gross Monthly Salary</th>\n",
              "      <th>Geographic Living Area</th>\n",
              "      <th>Has Children (Y=1)</th>\n",
              "      <th>Customer Monetary Value</th>\n",
              "      <th>Claims Rate</th>\n",
              "      <th>Premiums in LOB: Motor</th>\n",
              "      <th>Premiums in LOB: Household</th>\n",
              "      <th>Premiums in LOB: Health</th>\n",
              "      <th>Premiums in LOB:  Life</th>\n",
              "      <th>Premiums in LOB: Work Compensations</th>\n",
              "    </tr>\n",
              "  </thead>\n",
              "  <tbody>\n",
              "    <tr>\n",
              "      <th>0</th>\n",
              "      <td>1</td>\n",
              "      <td>1985.0</td>\n",
              "      <td>1982.0</td>\n",
              "      <td>2 - High School</td>\n",
              "      <td>2177.0</td>\n",
              "      <td>1.0</td>\n",
              "      <td>1.0</td>\n",
              "      <td>380.97</td>\n",
              "      <td>0.39</td>\n",
              "      <td>375.85</td>\n",
              "      <td>79.45</td>\n",
              "      <td>146.36</td>\n",
              "      <td>47.01</td>\n",
              "      <td>16.89</td>\n",
              "    </tr>\n",
              "    <tr>\n",
              "      <th>1</th>\n",
              "      <td>2</td>\n",
              "      <td>1981.0</td>\n",
              "      <td>1995.0</td>\n",
              "      <td>2 - High School</td>\n",
              "      <td>677.0</td>\n",
              "      <td>4.0</td>\n",
              "      <td>1.0</td>\n",
              "      <td>-131.13</td>\n",
              "      <td>1.12</td>\n",
              "      <td>77.46</td>\n",
              "      <td>416.20</td>\n",
              "      <td>116.69</td>\n",
              "      <td>194.48</td>\n",
              "      <td>106.13</td>\n",
              "    </tr>\n",
              "    <tr>\n",
              "      <th>2</th>\n",
              "      <td>3</td>\n",
              "      <td>1991.0</td>\n",
              "      <td>1970.0</td>\n",
              "      <td>1 - Basic</td>\n",
              "      <td>2277.0</td>\n",
              "      <td>3.0</td>\n",
              "      <td>0.0</td>\n",
              "      <td>504.67</td>\n",
              "      <td>0.28</td>\n",
              "      <td>206.15</td>\n",
              "      <td>224.50</td>\n",
              "      <td>124.58</td>\n",
              "      <td>86.35</td>\n",
              "      <td>99.02</td>\n",
              "    </tr>\n",
              "  </tbody>\n",
              "</table>\n",
              "</div>"
            ],
            "text/plain": [
              "   Customer Identity  First Policy´s Year  Brithday Year Educational Degree  \\\n",
              "0                  1               1985.0         1982.0    2 - High School   \n",
              "1                  2               1981.0         1995.0    2 - High School   \n",
              "2                  3               1991.0         1970.0          1 - Basic   \n",
              "\n",
              "   Gross Monthly Salary  Geographic Living Area  Has Children (Y=1)  \\\n",
              "0                2177.0                     1.0                 1.0   \n",
              "1                 677.0                     4.0                 1.0   \n",
              "2                2277.0                     3.0                 0.0   \n",
              "\n",
              "   Customer Monetary Value  Claims Rate  Premiums in LOB: Motor  \\\n",
              "0                   380.97         0.39                  375.85   \n",
              "1                  -131.13         1.12                   77.46   \n",
              "2                   504.67         0.28                  206.15   \n",
              "\n",
              "   Premiums in LOB: Household  Premiums in LOB: Health  \\\n",
              "0                       79.45                   146.36   \n",
              "1                      416.20                   116.69   \n",
              "2                      224.50                   124.58   \n",
              "\n",
              "   Premiums in LOB:  Life  Premiums in LOB: Work Compensations  \n",
              "0                   47.01                                16.89  \n",
              "1                  194.48                               106.13  \n",
              "2                   86.35                                99.02  "
            ]
          },
          "metadata": {
            "tags": []
          },
          "execution_count": 7
        }
      ]
    },
    {
      "metadata": {
        "id": "xswBNBL9XBfg",
        "colab_type": "text"
      },
      "cell_type": "markdown",
      "source": [
        "# Data Cleaning"
      ]
    },
    {
      "metadata": {
        "id": "561E7E2H1G4G",
        "colab_type": "code",
        "outputId": "2bc069e3-5696-4e91-8647-83e4576ddd29",
        "colab": {
          "base_uri": "https://localhost:8080/",
          "height": 85
        }
      },
      "cell_type": "code",
      "source": [
        "#Renaming columns\n",
        "abt.rename(columns={'Customer Identity':'CustID','First Policy´s Year':'first_policy','Brithday Year':'birthday','Educational Degree':'education','Gross Monthly Salary':'salary',\n",
        "                    'Geographic Living Area':'area','Has Children (Y=1)':'children','Customer Monetary Value':'lifetime_value','Claims Rate':'claims_rate'},inplace=True)\n",
        "\n",
        "abt.rename(columns={'Premiums in LOB: Motor':'motor','Premiums in LOB: Household':'household', 'Premiums in LOB: Health':'health',\n",
        "                    'Premiums in LOB:  Life':'life', 'Premiums in LOB: Work Compensations':'work_compensation'},inplace=True) \n",
        "           \n",
        "print(abt.columns)"
      ],
      "execution_count": 8,
      "outputs": [
        {
          "output_type": "stream",
          "text": [
            "Index(['CustID', 'first_policy', 'birthday', 'education', 'salary', 'area',\n",
            "       'children', 'lifetime_value', 'claims_rate', 'motor', 'household',\n",
            "       'health', 'life', 'work_compensation'],\n",
            "      dtype='object')\n"
          ],
          "name": "stdout"
        }
      ]
    },
    {
      "metadata": {
        "id": "a0O2zesv1I4a",
        "colab_type": "code",
        "colab": {}
      },
      "cell_type": "code",
      "source": [
        "#checks df data types\n",
        "#abt.dtypes"
      ],
      "execution_count": 0,
      "outputs": []
    },
    {
      "metadata": {
        "id": "BS7EnjJe1I7O",
        "colab_type": "code",
        "colab": {}
      },
      "cell_type": "code",
      "source": [
        "# EDUCATION: Convert to binary\n",
        "#1 : higher education (BSc, MSc, PHD)\n",
        "#2 : lower education (High School, Basic)\n",
        "\n",
        "abt['education'] = abt['education'].replace({'1 - Basic':'0', '2 - High School':'0','3 - BSc/MSc':'1','4 - PhD':'1'})\n"
      ],
      "execution_count": 0,
      "outputs": []
    },
    {
      "metadata": {
        "id": "Tvpt4GPF6UHT",
        "colab_type": "code",
        "colab": {}
      },
      "cell_type": "code",
      "source": [
        "#We drop all rows where the first_policy is above 2018 a\n",
        "\n",
        "abt.drop(abt[abt.first_policy >= 2018].index, inplace=True)\n",
        "\n",
        "#abt has 10284 rows left"
      ],
      "execution_count": 0,
      "outputs": []
    },
    {
      "metadata": {
        "id": "bODJ_gGpY6h9",
        "colab_type": "code",
        "colab": {}
      },
      "cell_type": "code",
      "source": [
        "#MISSING VALUES first_policy & birthday - \n",
        "\n",
        "#create new column called timeBetweenFPandBD - measures the difference between the first policy and birthday. This will be averaged and used to \n",
        "#plug into NaN cells in first policy and birthday\n",
        "\n",
        "abt['timeBetweenFPandBD'] = abt['first_policy'] - abt['birthday']\n",
        "\n",
        "#find the average age of insurance buyers when they buy their first policy. We will plug this value to fill missing\n",
        "#values in first_policy and birthday. \n",
        "#only use timeBetweenFPandBD greater or equal to 18 to calculate average (assuming people can only buy insurance at 18 years old)\n",
        "\n",
        "AvgYrs = np.floor(abt['timeBetweenFPandBD'].loc[abt['timeBetweenFPandBD'] >= 18].mean())\n",
        "\n",
        "#AvgYrs = 33\n"
      ],
      "execution_count": 0,
      "outputs": []
    },
    {
      "metadata": {
        "id": "k6Iqi74DvQft",
        "colab_type": "code",
        "colab": {}
      },
      "cell_type": "code",
      "source": [
        "#plugging AvgYrs into NaN for first_policy and birthday\n",
        "\n",
        "abt ['first_policy'] = abt['first_policy'].fillna(value=abt['birthday'] + AvgYrs)\n",
        "abt ['birthday'] = abt['birthday'].fillna(value=abt['first_policy'] - AvgYrs)\n",
        "\n"
      ],
      "execution_count": 0,
      "outputs": []
    },
    {
      "metadata": {
        "id": "cLRN8k_guAc7",
        "colab_type": "code",
        "colab": {}
      },
      "cell_type": "code",
      "source": [
        "#drop rows where both first_policy and birthday are NaN\n",
        "\n",
        "abt = abt.dropna(subset=['first_policy', 'birthday'], how='all');\n"
      ],
      "execution_count": 0,
      "outputs": []
    },
    {
      "metadata": {
        "id": "RKCzEfDe2FfC",
        "colab_type": "code",
        "outputId": "62f01099-8385-4d98-8428-bfc7f9cb44e1",
        "colab": {
          "base_uri": "https://localhost:8080/",
          "height": 286
        }
      },
      "cell_type": "code",
      "source": [
        "#there are 9 instances where first_policy is higher than 2018 - Not possible\n",
        "#there are no instances where birthday is below 1900\n",
        "abt.loc[abt.first_policy >= 2018 ].count()"
      ],
      "execution_count": 0,
      "outputs": [
        {
          "output_type": "execute_result",
          "data": {
            "text/plain": [
              "CustID                3\n",
              "first_policy          3\n",
              "birthday              3\n",
              "education             2\n",
              "salary                3\n",
              "area                  3\n",
              "children              2\n",
              "lifetime_value        3\n",
              "claims_rate           3\n",
              "motor                 3\n",
              "household             3\n",
              "health                3\n",
              "life                  3\n",
              "work_compensation     3\n",
              "timeBetweenFPandBD    0\n",
              "dtype: int64"
            ]
          },
          "metadata": {
            "tags": []
          },
          "execution_count": 15
        }
      ]
    },
    {
      "metadata": {
        "id": "sVOmfGDQ1zAR",
        "colab_type": "code",
        "colab": {}
      },
      "cell_type": "code",
      "source": [
        "#We drop all rows where the first_policy is above 2018 a\n",
        "\n",
        "abt.drop(abt[abt.first_policy > 2018].index, inplace=True)\n",
        "\n",
        "#abt has 10289 rows left"
      ],
      "execution_count": 0,
      "outputs": []
    },
    {
      "metadata": {
        "id": "tb1bZ8WQ_w6f",
        "colab_type": "code",
        "colab": {}
      },
      "cell_type": "code",
      "source": [
        "#only keeping customers that are 18 years old or older (3 year children don't own house and motor insurance)\n",
        "\n",
        "abt = abt[abt['timeBetweenFPandBD']>=18]"
      ],
      "execution_count": 0,
      "outputs": []
    },
    {
      "metadata": {
        "id": "G7t3jX6GuTRV",
        "colab_type": "code",
        "outputId": "fb24c658-012f-494c-e1b1-fbf50e27221e",
        "colab": {
          "base_uri": "https://localhost:8080/",
          "height": 286
        }
      },
      "cell_type": "code",
      "source": [
        "abt.isnull().sum()"
      ],
      "execution_count": 0,
      "outputs": [
        {
          "output_type": "execute_result",
          "data": {
            "text/plain": [
              "CustID                 0\n",
              "first_policy           0\n",
              "birthday               0\n",
              "education              1\n",
              "salary                17\n",
              "area                   0\n",
              "children               5\n",
              "lifetime_value         0\n",
              "claims_rate            0\n",
              "motor                 17\n",
              "household              0\n",
              "health                17\n",
              "life                  59\n",
              "work_compensation     49\n",
              "timeBetweenFPandBD     0\n",
              "dtype: int64"
            ]
          },
          "metadata": {
            "tags": []
          },
          "execution_count": 18
        }
      ]
    },
    {
      "metadata": {
        "id": "1cbzlDYDyfwh",
        "colab_type": "code",
        "colab": {}
      },
      "cell_type": "code",
      "source": [
        "#dropping rows with 3 or more missing values and filling NaN for life, health, motor and work_compesation with 0s\n",
        "\n",
        "abt = abt.dropna(thresh=12)\n",
        "abt['life'] = abt['life'].fillna(0)\n",
        "abt['motor'] = abt['motor'].fillna(0)\n",
        "abt['health'] = abt['health'].fillna(0)\n",
        "abt['work_compensation'] = abt['work_compensation'].fillna(0)\n",
        "abt = abt.dropna(subset=['education', 'salary', 'children']);"
      ],
      "execution_count": 0,
      "outputs": []
    },
    {
      "metadata": {
        "id": "4IIeyCYw0wcB",
        "colab_type": "code",
        "colab": {}
      },
      "cell_type": "code",
      "source": [
        "#abt"
      ],
      "execution_count": 0,
      "outputs": []
    },
    {
      "metadata": {
        "id": "74bmzCkO8xIw",
        "colab_type": "code",
        "colab": {}
      },
      "cell_type": "code",
      "source": [
        "#abt.dtypes"
      ],
      "execution_count": 0,
      "outputs": []
    },
    {
      "metadata": {
        "id": "sF6tcLuOS5mW",
        "colab_type": "code",
        "colab": {}
      },
      "cell_type": "code",
      "source": [
        "#NOT NEEDED - ALREADY FLOAT64 - converting first_policy and birthday to numeric so we can convert them to datetime\n",
        "#abt['first_policy'] = pd.to_numeric(abt['first_policy'], errors='coerce')\n",
        "#abt['birthday'] = pd.to_numeric(abt['birthday'], errors='coerce')\n"
      ],
      "execution_count": 0,
      "outputs": []
    },
    {
      "metadata": {
        "id": "_gCH5PlrSDeG",
        "colab_type": "code",
        "colab": {}
      },
      "cell_type": "code",
      "source": [
        "abt['first_policy'] = pd.to_datetime(abt['first_policy'], format='%Y.0', errors='coerce')\n",
        "abt['birthday'] = pd.to_datetime(abt['birthday'], format='%Y.0', errors='coerce')\n",
        "\n"
      ],
      "execution_count": 0,
      "outputs": []
    },
    {
      "metadata": {
        "id": "oJ-HfkvkRsLL",
        "colab_type": "code",
        "outputId": "437ab1de-97ba-4bbc-f750-911dce285765",
        "colab": {
          "base_uri": "https://localhost:8080/",
          "height": 286
        }
      },
      "cell_type": "code",
      "source": [
        "abt.dtypes"
      ],
      "execution_count": 0,
      "outputs": [
        {
          "output_type": "execute_result",
          "data": {
            "text/plain": [
              "CustID                         int64\n",
              "first_policy          datetime64[ns]\n",
              "birthday              datetime64[ns]\n",
              "education                     object\n",
              "salary                       float64\n",
              "area                         float64\n",
              "children                     float64\n",
              "lifetime_value               float64\n",
              "claims_rate                  float64\n",
              "motor                        float64\n",
              "household                    float64\n",
              "health                       float64\n",
              "life                         float64\n",
              "work_compensation            float64\n",
              "timeBetweenFPandBD           float64\n",
              "dtype: object"
            ]
          },
          "metadata": {
            "tags": []
          },
          "execution_count": 21
        }
      ]
    },
    {
      "metadata": {
        "id": "cUKUxyhz4byx",
        "colab_type": "code",
        "colab": {}
      },
      "cell_type": "code",
      "source": [
        ""
      ],
      "execution_count": 0,
      "outputs": []
    },
    {
      "metadata": {
        "id": "wY9PPXvu4cMf",
        "colab_type": "code",
        "outputId": "8a4c8eff-5c6e-4187-93da-57ab6d5e47b9",
        "colab": {
          "base_uri": "https://localhost:8080/",
          "height": 343
        }
      },
      "cell_type": "code",
      "source": [
        "abt.head(10)"
      ],
      "execution_count": 0,
      "outputs": [
        {
          "output_type": "execute_result",
          "data": {
            "text/html": [
              "<div>\n",
              "<style scoped>\n",
              "    .dataframe tbody tr th:only-of-type {\n",
              "        vertical-align: middle;\n",
              "    }\n",
              "\n",
              "    .dataframe tbody tr th {\n",
              "        vertical-align: top;\n",
              "    }\n",
              "\n",
              "    .dataframe thead th {\n",
              "        text-align: right;\n",
              "    }\n",
              "</style>\n",
              "<table border=\"1\" class=\"dataframe\">\n",
              "  <thead>\n",
              "    <tr style=\"text-align: right;\">\n",
              "      <th></th>\n",
              "      <th>CustID</th>\n",
              "      <th>first_policy</th>\n",
              "      <th>birthday</th>\n",
              "      <th>education</th>\n",
              "      <th>salary</th>\n",
              "      <th>area</th>\n",
              "      <th>children</th>\n",
              "      <th>lifetime_value</th>\n",
              "      <th>claims_rate</th>\n",
              "      <th>motor</th>\n",
              "      <th>household</th>\n",
              "      <th>health</th>\n",
              "      <th>life</th>\n",
              "      <th>work_compensation</th>\n",
              "      <th>timeBetweenFPandBD</th>\n",
              "    </tr>\n",
              "  </thead>\n",
              "  <tbody>\n",
              "    <tr>\n",
              "      <th>2</th>\n",
              "      <td>3</td>\n",
              "      <td>1991-01-01</td>\n",
              "      <td>1970-01-01</td>\n",
              "      <td>0</td>\n",
              "      <td>2277.0</td>\n",
              "      <td>3.0</td>\n",
              "      <td>0.0</td>\n",
              "      <td>504.67</td>\n",
              "      <td>0.28</td>\n",
              "      <td>206.15</td>\n",
              "      <td>224.50</td>\n",
              "      <td>124.58</td>\n",
              "      <td>86.35</td>\n",
              "      <td>99.02</td>\n",
              "      <td>21.0</td>\n",
              "    </tr>\n",
              "    <tr>\n",
              "      <th>5</th>\n",
              "      <td>6</td>\n",
              "      <td>1986-01-01</td>\n",
              "      <td>1956-01-01</td>\n",
              "      <td>0</td>\n",
              "      <td>2566.0</td>\n",
              "      <td>4.0</td>\n",
              "      <td>1.0</td>\n",
              "      <td>-24.33</td>\n",
              "      <td>1.00</td>\n",
              "      <td>440.75</td>\n",
              "      <td>18.90</td>\n",
              "      <td>114.80</td>\n",
              "      <td>7.00</td>\n",
              "      <td>7.67</td>\n",
              "      <td>30.0</td>\n",
              "    </tr>\n",
              "    <tr>\n",
              "      <th>6</th>\n",
              "      <td>7</td>\n",
              "      <td>1979-01-01</td>\n",
              "      <td>1943-01-01</td>\n",
              "      <td>0</td>\n",
              "      <td>4103.0</td>\n",
              "      <td>4.0</td>\n",
              "      <td>0.0</td>\n",
              "      <td>-66.01</td>\n",
              "      <td>1.05</td>\n",
              "      <td>156.92</td>\n",
              "      <td>295.60</td>\n",
              "      <td>317.95</td>\n",
              "      <td>14.67</td>\n",
              "      <td>26.34</td>\n",
              "      <td>36.0</td>\n",
              "    </tr>\n",
              "    <tr>\n",
              "      <th>9</th>\n",
              "      <td>10</td>\n",
              "      <td>1976-01-01</td>\n",
              "      <td>1948-01-01</td>\n",
              "      <td>1</td>\n",
              "      <td>3842.0</td>\n",
              "      <td>1.0</td>\n",
              "      <td>0.0</td>\n",
              "      <td>-119.35</td>\n",
              "      <td>1.12</td>\n",
              "      <td>209.26</td>\n",
              "      <td>182.25</td>\n",
              "      <td>271.94</td>\n",
              "      <td>39.23</td>\n",
              "      <td>55.12</td>\n",
              "      <td>28.0</td>\n",
              "    </tr>\n",
              "    <tr>\n",
              "      <th>10</th>\n",
              "      <td>11</td>\n",
              "      <td>1990-01-01</td>\n",
              "      <td>1945-01-01</td>\n",
              "      <td>1</td>\n",
              "      <td>3995.0</td>\n",
              "      <td>4.0</td>\n",
              "      <td>0.0</td>\n",
              "      <td>290.17</td>\n",
              "      <td>0.53</td>\n",
              "      <td>296.50</td>\n",
              "      <td>116.70</td>\n",
              "      <td>227.71</td>\n",
              "      <td>18.67</td>\n",
              "      <td>10.89</td>\n",
              "      <td>45.0</td>\n",
              "    </tr>\n",
              "    <tr>\n",
              "      <th>11</th>\n",
              "      <td>12</td>\n",
              "      <td>1985-01-01</td>\n",
              "      <td>1958-01-01</td>\n",
              "      <td>1</td>\n",
              "      <td>2834.0</td>\n",
              "      <td>3.0</td>\n",
              "      <td>1.0</td>\n",
              "      <td>405.74</td>\n",
              "      <td>0.46</td>\n",
              "      <td>249.49</td>\n",
              "      <td>216.70</td>\n",
              "      <td>252.38</td>\n",
              "      <td>36.34</td>\n",
              "      <td>35.45</td>\n",
              "      <td>27.0</td>\n",
              "    </tr>\n",
              "    <tr>\n",
              "      <th>12</th>\n",
              "      <td>13</td>\n",
              "      <td>1981-01-01</td>\n",
              "      <td>1949-01-01</td>\n",
              "      <td>1</td>\n",
              "      <td>3757.0</td>\n",
              "      <td>1.0</td>\n",
              "      <td>0.0</td>\n",
              "      <td>2.34</td>\n",
              "      <td>0.97</td>\n",
              "      <td>206.04</td>\n",
              "      <td>340.05</td>\n",
              "      <td>257.05</td>\n",
              "      <td>43.12</td>\n",
              "      <td>15.78</td>\n",
              "      <td>32.0</td>\n",
              "    </tr>\n",
              "    <tr>\n",
              "      <th>19</th>\n",
              "      <td>20</td>\n",
              "      <td>1988-01-01</td>\n",
              "      <td>1962-01-01</td>\n",
              "      <td>1</td>\n",
              "      <td>2751.0</td>\n",
              "      <td>1.0</td>\n",
              "      <td>1.0</td>\n",
              "      <td>352.96</td>\n",
              "      <td>0.36</td>\n",
              "      <td>402.41</td>\n",
              "      <td>9.45</td>\n",
              "      <td>125.69</td>\n",
              "      <td>24.45</td>\n",
              "      <td>30.56</td>\n",
              "      <td>26.0</td>\n",
              "    </tr>\n",
              "    <tr>\n",
              "      <th>23</th>\n",
              "      <td>24</td>\n",
              "      <td>1998-01-01</td>\n",
              "      <td>1961-01-01</td>\n",
              "      <td>0</td>\n",
              "      <td>2870.0</td>\n",
              "      <td>4.0</td>\n",
              "      <td>1.0</td>\n",
              "      <td>290.05</td>\n",
              "      <td>0.64</td>\n",
              "      <td>222.04</td>\n",
              "      <td>329.50</td>\n",
              "      <td>248.38</td>\n",
              "      <td>48.01</td>\n",
              "      <td>33.56</td>\n",
              "      <td>37.0</td>\n",
              "    </tr>\n",
              "    <tr>\n",
              "      <th>24</th>\n",
              "      <td>25</td>\n",
              "      <td>1988-01-01</td>\n",
              "      <td>1952-01-01</td>\n",
              "      <td>1</td>\n",
              "      <td>3201.0</td>\n",
              "      <td>4.0</td>\n",
              "      <td>0.0</td>\n",
              "      <td>108.13</td>\n",
              "      <td>0.81</td>\n",
              "      <td>420.30</td>\n",
              "      <td>128.35</td>\n",
              "      <td>135.58</td>\n",
              "      <td>15.67</td>\n",
              "      <td>4.78</td>\n",
              "      <td>36.0</td>\n",
              "    </tr>\n",
              "  </tbody>\n",
              "</table>\n",
              "</div>"
            ],
            "text/plain": [
              "    CustID first_policy   birthday education  salary  area  children  \\\n",
              "2        3   1991-01-01 1970-01-01         0  2277.0   3.0       0.0   \n",
              "5        6   1986-01-01 1956-01-01         0  2566.0   4.0       1.0   \n",
              "6        7   1979-01-01 1943-01-01         0  4103.0   4.0       0.0   \n",
              "9       10   1976-01-01 1948-01-01         1  3842.0   1.0       0.0   \n",
              "10      11   1990-01-01 1945-01-01         1  3995.0   4.0       0.0   \n",
              "11      12   1985-01-01 1958-01-01         1  2834.0   3.0       1.0   \n",
              "12      13   1981-01-01 1949-01-01         1  3757.0   1.0       0.0   \n",
              "19      20   1988-01-01 1962-01-01         1  2751.0   1.0       1.0   \n",
              "23      24   1998-01-01 1961-01-01         0  2870.0   4.0       1.0   \n",
              "24      25   1988-01-01 1952-01-01         1  3201.0   4.0       0.0   \n",
              "\n",
              "    lifetime_value  claims_rate   motor  household  health   life  \\\n",
              "2           504.67         0.28  206.15     224.50  124.58  86.35   \n",
              "5           -24.33         1.00  440.75      18.90  114.80   7.00   \n",
              "6           -66.01         1.05  156.92     295.60  317.95  14.67   \n",
              "9          -119.35         1.12  209.26     182.25  271.94  39.23   \n",
              "10          290.17         0.53  296.50     116.70  227.71  18.67   \n",
              "11          405.74         0.46  249.49     216.70  252.38  36.34   \n",
              "12            2.34         0.97  206.04     340.05  257.05  43.12   \n",
              "19          352.96         0.36  402.41       9.45  125.69  24.45   \n",
              "23          290.05         0.64  222.04     329.50  248.38  48.01   \n",
              "24          108.13         0.81  420.30     128.35  135.58  15.67   \n",
              "\n",
              "    work_compensation  timeBetweenFPandBD  \n",
              "2               99.02                21.0  \n",
              "5                7.67                30.0  \n",
              "6               26.34                36.0  \n",
              "9               55.12                28.0  \n",
              "10              10.89                45.0  \n",
              "11              35.45                27.0  \n",
              "12              15.78                32.0  \n",
              "19              30.56                26.0  \n",
              "23              33.56                37.0  \n",
              "24               4.78                36.0  "
            ]
          },
          "metadata": {
            "tags": []
          },
          "execution_count": 22
        }
      ]
    },
    {
      "metadata": {
        "id": "d-JccmnoGpMk",
        "colab_type": "code",
        "colab": {}
      },
      "cell_type": "code",
      "source": [
        ""
      ],
      "execution_count": 0,
      "outputs": []
    },
    {
      "metadata": {
        "id": "uGn-ewv6GeiL",
        "colab_type": "text"
      },
      "cell_type": "markdown",
      "source": [
        "# Plotting"
      ]
    },
    {
      "metadata": {
        "id": "_GueLLc8Gpuq",
        "colab_type": "code",
        "colab": {}
      },
      "cell_type": "code",
      "source": [
        "x = abt['CustID']\n",
        "y = abt['salary']\n",
        "\n",
        "\n",
        "def scatterplot(x_data, y_data, x_label=\"\", y_label=\"\", title=\"\", color = \"r\", yscale_log=False):\n",
        "\n",
        "    # Create the plot object\n",
        "    _, ax = plt.subplots()\n",
        "\n",
        "    # Plot the data, set the size (s), color and transparency (alpha)\n",
        "    # of the points\n",
        "    ax.scatter(x_data, y_data, s = 20, color = color, alpha = 0.75)\n",
        "\n",
        "    if yscale_log == True:\n",
        "        ax.set_yscale('log')\n",
        "\n",
        "    # Label the axes and provide a title\n",
        "    ax.set_title(title)\n",
        "    ax.set_xlabel(x_label)\n",
        "    ax.set_ylabel(y_label)"
      ],
      "execution_count": 0,
      "outputs": []
    },
    {
      "metadata": {
        "id": "qXMkbPtgGgH1",
        "colab_type": "code",
        "outputId": "8b443b34-679b-4f23-a7fa-2df1538acea9",
        "colab": {
          "base_uri": "https://localhost:8080/",
          "height": 346
        }
      },
      "cell_type": "code",
      "source": [
        "abt = abt[abt['salary']<=10000]\n",
        "x = random.sample(abt['lifetime_value'], 1000)\n",
        "y = random.sample(abt['salary'], 1000)\n",
        "\n",
        "scatterplot(x,y, x_label = 'Lifetime Value', y_label = 'Salary', title = 'Customer Salaries')"
      ],
      "execution_count": 0,
      "outputs": [
        {
          "output_type": "error",
          "ename": "TypeError",
          "evalue": "ignored",
          "traceback": [
            "\u001b[0;31m---------------------------------------------------------------------------\u001b[0m",
            "\u001b[0;31mTypeError\u001b[0m                                 Traceback (most recent call last)",
            "\u001b[0;32m<ipython-input-24-e059e4065936>\u001b[0m in \u001b[0;36m<module>\u001b[0;34m()\u001b[0m\n\u001b[1;32m      1\u001b[0m \u001b[0mabt\u001b[0m \u001b[0;34m=\u001b[0m \u001b[0mabt\u001b[0m\u001b[0;34m[\u001b[0m\u001b[0mabt\u001b[0m\u001b[0;34m[\u001b[0m\u001b[0;34m'salary'\u001b[0m\u001b[0;34m]\u001b[0m\u001b[0;34m<=\u001b[0m\u001b[0;36m10000\u001b[0m\u001b[0;34m]\u001b[0m\u001b[0;34m\u001b[0m\u001b[0m\n\u001b[0;32m----> 2\u001b[0;31m \u001b[0mx\u001b[0m \u001b[0;34m=\u001b[0m \u001b[0mrandom\u001b[0m\u001b[0;34m.\u001b[0m\u001b[0msample\u001b[0m\u001b[0;34m(\u001b[0m\u001b[0mabt\u001b[0m\u001b[0;34m[\u001b[0m\u001b[0;34m'lifetime_value'\u001b[0m\u001b[0;34m]\u001b[0m\u001b[0;34m,\u001b[0m \u001b[0;36m1000\u001b[0m\u001b[0;34m)\u001b[0m\u001b[0;34m\u001b[0m\u001b[0m\n\u001b[0m\u001b[1;32m      3\u001b[0m \u001b[0my\u001b[0m \u001b[0;34m=\u001b[0m \u001b[0mrandom\u001b[0m\u001b[0;34m.\u001b[0m\u001b[0msample\u001b[0m\u001b[0;34m(\u001b[0m\u001b[0mabt\u001b[0m\u001b[0;34m[\u001b[0m\u001b[0;34m'salary'\u001b[0m\u001b[0;34m]\u001b[0m\u001b[0;34m,\u001b[0m \u001b[0;36m1000\u001b[0m\u001b[0;34m)\u001b[0m\u001b[0;34m\u001b[0m\u001b[0m\n\u001b[1;32m      4\u001b[0m \u001b[0;34m\u001b[0m\u001b[0m\n\u001b[1;32m      5\u001b[0m \u001b[0mscatterplot\u001b[0m\u001b[0;34m(\u001b[0m\u001b[0mx\u001b[0m\u001b[0;34m,\u001b[0m\u001b[0my\u001b[0m\u001b[0;34m,\u001b[0m \u001b[0mx_label\u001b[0m \u001b[0;34m=\u001b[0m \u001b[0;34m'Lifetime Value'\u001b[0m\u001b[0;34m,\u001b[0m \u001b[0my_label\u001b[0m \u001b[0;34m=\u001b[0m \u001b[0;34m'Salary'\u001b[0m\u001b[0;34m,\u001b[0m \u001b[0mtitle\u001b[0m \u001b[0;34m=\u001b[0m \u001b[0;34m'Customer Salaries'\u001b[0m\u001b[0;34m)\u001b[0m\u001b[0;34m\u001b[0m\u001b[0m\n",
            "\u001b[0;32m/usr/lib/python3.6/random.py\u001b[0m in \u001b[0;36msample\u001b[0;34m(self, population, k)\u001b[0m\n\u001b[1;32m    314\u001b[0m             \u001b[0mpopulation\u001b[0m \u001b[0;34m=\u001b[0m \u001b[0mtuple\u001b[0m\u001b[0;34m(\u001b[0m\u001b[0mpopulation\u001b[0m\u001b[0;34m)\u001b[0m\u001b[0;34m\u001b[0m\u001b[0m\n\u001b[1;32m    315\u001b[0m         \u001b[0;32mif\u001b[0m \u001b[0;32mnot\u001b[0m \u001b[0misinstance\u001b[0m\u001b[0;34m(\u001b[0m\u001b[0mpopulation\u001b[0m\u001b[0;34m,\u001b[0m \u001b[0m_Sequence\u001b[0m\u001b[0;34m)\u001b[0m\u001b[0;34m:\u001b[0m\u001b[0;34m\u001b[0m\u001b[0m\n\u001b[0;32m--> 316\u001b[0;31m             \u001b[0;32mraise\u001b[0m \u001b[0mTypeError\u001b[0m\u001b[0;34m(\u001b[0m\u001b[0;34m\"Population must be a sequence or set.  For dicts, use list(d).\"\u001b[0m\u001b[0;34m)\u001b[0m\u001b[0;34m\u001b[0m\u001b[0m\n\u001b[0m\u001b[1;32m    317\u001b[0m         \u001b[0mrandbelow\u001b[0m \u001b[0;34m=\u001b[0m \u001b[0mself\u001b[0m\u001b[0;34m.\u001b[0m\u001b[0m_randbelow\u001b[0m\u001b[0;34m\u001b[0m\u001b[0m\n\u001b[1;32m    318\u001b[0m         \u001b[0mn\u001b[0m \u001b[0;34m=\u001b[0m \u001b[0mlen\u001b[0m\u001b[0;34m(\u001b[0m\u001b[0mpopulation\u001b[0m\u001b[0;34m)\u001b[0m\u001b[0;34m\u001b[0m\u001b[0m\n",
            "\u001b[0;31mTypeError\u001b[0m: Population must be a sequence or set.  For dicts, use list(d)."
          ]
        }
      ]
    },
    {
      "metadata": {
        "id": "LkdSYfHZPUoJ",
        "colab_type": "code",
        "outputId": "37218ece-ca02-4557-af80-c758be9c7daa",
        "colab": {
          "base_uri": "https://localhost:8080/",
          "height": 376
        }
      },
      "cell_type": "code",
      "source": [
        "x = abt['salary']\n",
        "y = abt['education']\n",
        "\n",
        "\n",
        "scatterplot(x,y,  x_label = 'Salary', y_label = 'Education', title = 'Salaries')"
      ],
      "execution_count": 0,
      "outputs": [
        {
          "output_type": "display_data",
          "data": {
            "image/png": "[encoded data removed]",
            "text/plain": [
              "<matplotlib.figure.Figure at 0x7f12a023c390>"
            ]
          },
          "metadata": {
            "tags": []
          }
        }
      ]
    },
    {
      "metadata": {
        "id": "6xfUvMv3O-EW",
        "colab_type": "code",
        "outputId": "5fc9eef3-04e9-4bd3-b3df-7f3575938300",
        "colab": {
          "base_uri": "https://localhost:8080/",
          "height": 69
        }
      },
      "cell_type": "code",
      "source": [
        ""
      ],
      "execution_count": 0,
      "outputs": [
        {
          "output_type": "execute_result",
          "data": {
            "text/html": [
              "<div>\n",
              "<style scoped>\n",
              "    .dataframe tbody tr th:only-of-type {\n",
              "        vertical-align: middle;\n",
              "    }\n",
              "\n",
              "    .dataframe tbody tr th {\n",
              "        vertical-align: top;\n",
              "    }\n",
              "\n",
              "    .dataframe thead th {\n",
              "        text-align: right;\n",
              "    }\n",
              "</style>\n",
              "<table border=\"1\" class=\"dataframe\">\n",
              "  <thead>\n",
              "    <tr style=\"text-align: right;\">\n",
              "      <th></th>\n",
              "      <th>CustID</th>\n",
              "      <th>first_policy</th>\n",
              "      <th>birthday</th>\n",
              "      <th>education</th>\n",
              "      <th>salary</th>\n",
              "      <th>area</th>\n",
              "      <th>children</th>\n",
              "      <th>lifetime_value</th>\n",
              "      <th>claims_rate</th>\n",
              "      <th>motor</th>\n",
              "      <th>household</th>\n",
              "      <th>health</th>\n",
              "      <th>life</th>\n",
              "      <th>work_compensation</th>\n",
              "      <th>timeBetweenFPandBD</th>\n",
              "    </tr>\n",
              "  </thead>\n",
              "  <tbody>\n",
              "  </tbody>\n",
              "</table>\n",
              "</div>"
            ],
            "text/plain": [
              "Empty DataFrame\n",
              "Columns: [CustID, first_policy, birthday, education, salary, area, children, lifetime_value, claims_rate, motor, household, health, life, work_compensation, timeBetweenFPandBD]\n",
              "Index: []"
            ]
          },
          "metadata": {
            "tags": []
          },
          "execution_count": 321
        }
      ]
    },
    {
      "metadata": {
        "id": "66K30L5eI_oY",
        "colab_type": "code",
        "outputId": "6829f333-891c-4548-ac25-1b8c436467a5",
        "colab": {
          "base_uri": "https://localhost:8080/",
          "height": 376
        }
      },
      "cell_type": "code",
      "source": [
        "import matplotlib.pyplot as plt\n",
        "\n",
        "x = abt['CustID']\n",
        "y = abt['salary']\n",
        "\n",
        "plt.scatter(x, y)\n",
        "plt.title(\"Customer Salaries\")\n",
        "plt.xlabel(\"CustID\")\n",
        "plt.ylabel(\"Salary\")\n",
        "plt.show()\n"
      ],
      "execution_count": 0,
      "outputs": [
        {
          "output_type": "display_data",
          "data": {
            "image/png": "[encoded data removed]",
            "text/plain": [
              "<matplotlib.figure.Figure at 0x7f12a023c860>"
            ]
          },
          "metadata": {
            "tags": []
          }
        }
      ]
    },
    {
      "metadata": {
        "id": "B4_YWklYI_rQ",
        "colab_type": "code",
        "colab": {}
      },
      "cell_type": "code",
      "source": [
        ""
      ],
      "execution_count": 0,
      "outputs": []
    },
    {
      "metadata": {
        "id": "rkcfbBkXI_ua",
        "colab_type": "code",
        "colab": {}
      },
      "cell_type": "code",
      "source": [
        ""
      ],
      "execution_count": 0,
      "outputs": []
    },
    {
      "metadata": {
        "id": "g2B1au5N4cSI",
        "colab_type": "code",
        "colab": {}
      },
      "cell_type": "code",
      "source": [
        ""
      ],
      "execution_count": 0,
      "outputs": []
    },
    {
      "metadata": {
        "id": "f4BXf77K4dPM",
        "colab_type": "text"
      },
      "cell_type": "markdown",
      "source": [
        "# K-Means"
      ]
    },
    {
      "metadata": {
        "id": "2i7J5mTt8HwD",
        "colab_type": "code",
        "outputId": "8b60df27-cc79-44da-b101-9f82621f7621",
        "colab": {
          "base_uri": "https://localhost:8080/",
          "height": 213
        }
      },
      "cell_type": "code",
      "source": [
        "abt.head(3)"
      ],
      "execution_count": 0,
      "outputs": [
        {
          "output_type": "execute_result",
          "data": {
            "text/html": [
              "<div>\n",
              "<style scoped>\n",
              "    .dataframe tbody tr th:only-of-type {\n",
              "        vertical-align: middle;\n",
              "    }\n",
              "\n",
              "    .dataframe tbody tr th {\n",
              "        vertical-align: top;\n",
              "    }\n",
              "\n",
              "    .dataframe thead th {\n",
              "        text-align: right;\n",
              "    }\n",
              "</style>\n",
              "<table border=\"1\" class=\"dataframe\">\n",
              "  <thead>\n",
              "    <tr style=\"text-align: right;\">\n",
              "      <th></th>\n",
              "      <th>CustID</th>\n",
              "      <th>first_policy</th>\n",
              "      <th>birthday</th>\n",
              "      <th>education</th>\n",
              "      <th>salary</th>\n",
              "      <th>area</th>\n",
              "      <th>children</th>\n",
              "      <th>lifetime_value</th>\n",
              "      <th>claims_rate</th>\n",
              "      <th>motor</th>\n",
              "      <th>household</th>\n",
              "      <th>health</th>\n",
              "      <th>life</th>\n",
              "      <th>work_compensation</th>\n",
              "      <th>timeBetweenFPandBD</th>\n",
              "    </tr>\n",
              "  </thead>\n",
              "  <tbody>\n",
              "    <tr>\n",
              "      <th>2</th>\n",
              "      <td>3</td>\n",
              "      <td>1991-01-01</td>\n",
              "      <td>1970-01-01</td>\n",
              "      <td>0</td>\n",
              "      <td>2277.0</td>\n",
              "      <td>3.0</td>\n",
              "      <td>0.0</td>\n",
              "      <td>504.67</td>\n",
              "      <td>0.28</td>\n",
              "      <td>206.15</td>\n",
              "      <td>224.5</td>\n",
              "      <td>124.58</td>\n",
              "      <td>86.35</td>\n",
              "      <td>99.02</td>\n",
              "      <td>21.0</td>\n",
              "    </tr>\n",
              "    <tr>\n",
              "      <th>5</th>\n",
              "      <td>6</td>\n",
              "      <td>1986-01-01</td>\n",
              "      <td>1956-01-01</td>\n",
              "      <td>0</td>\n",
              "      <td>2566.0</td>\n",
              "      <td>4.0</td>\n",
              "      <td>1.0</td>\n",
              "      <td>-24.33</td>\n",
              "      <td>1.00</td>\n",
              "      <td>440.75</td>\n",
              "      <td>18.9</td>\n",
              "      <td>114.80</td>\n",
              "      <td>7.00</td>\n",
              "      <td>7.67</td>\n",
              "      <td>30.0</td>\n",
              "    </tr>\n",
              "    <tr>\n",
              "      <th>6</th>\n",
              "      <td>7</td>\n",
              "      <td>1979-01-01</td>\n",
              "      <td>1943-01-01</td>\n",
              "      <td>0</td>\n",
              "      <td>4103.0</td>\n",
              "      <td>4.0</td>\n",
              "      <td>0.0</td>\n",
              "      <td>-66.01</td>\n",
              "      <td>1.05</td>\n",
              "      <td>156.92</td>\n",
              "      <td>295.6</td>\n",
              "      <td>317.95</td>\n",
              "      <td>14.67</td>\n",
              "      <td>26.34</td>\n",
              "      <td>36.0</td>\n",
              "    </tr>\n",
              "  </tbody>\n",
              "</table>\n",
              "</div>"
            ],
            "text/plain": [
              "   CustID first_policy   birthday education  salary  area  children  \\\n",
              "2       3   1991-01-01 1970-01-01         0  2277.0   3.0       0.0   \n",
              "5       6   1986-01-01 1956-01-01         0  2566.0   4.0       1.0   \n",
              "6       7   1979-01-01 1943-01-01         0  4103.0   4.0       0.0   \n",
              "\n",
              "   lifetime_value  claims_rate   motor  household  health   life  \\\n",
              "2          504.67         0.28  206.15      224.5  124.58  86.35   \n",
              "5          -24.33         1.00  440.75       18.9  114.80   7.00   \n",
              "6          -66.01         1.05  156.92      295.6  317.95  14.67   \n",
              "\n",
              "   work_compensation  timeBetweenFPandBD  \n",
              "2              99.02                21.0  \n",
              "5               7.67                30.0  \n",
              "6              26.34                36.0  "
            ]
          },
          "metadata": {
            "tags": []
          },
          "execution_count": 259
        }
      ]
    },
    {
      "metadata": {
        "id": "m7axA2sk_nSd",
        "colab_type": "code",
        "colab": {}
      },
      "cell_type": "code",
      "source": [
        "plt.rcParams['figure.figsize'] = (16, 9)\n",
        "plt.style.use('ggplot')\n"
      ],
      "execution_count": 0,
      "outputs": []
    },
    {
      "metadata": {
        "id": "1Xqmrjnw9nAF",
        "colab_type": "code",
        "outputId": "8770bb2b-8757-4b21-8269-6cb86f205f04",
        "colab": {
          "base_uri": "https://localhost:8080/",
          "height": 554
        }
      },
      "cell_type": "code",
      "source": [
        "a1 = abt['lifetime_value'].values\n",
        "a2 = abt['salary'].values\n",
        "X = np.array(list(zip(a1, a2)))\n",
        "plt.scatter(a1, a2, c='black', s=50)"
      ],
      "execution_count": 0,
      "outputs": [
        {
          "output_type": "execute_result",
          "data": {
            "text/plain": [
              "<matplotlib.collections.PathCollection at 0x7f3ca481ccf8>"
            ]
          },
          "metadata": {
            "tags": []
          },
          "execution_count": 261
        },
        {
          "output_type": "display_data",
          "data": {
            "image/png": "[encoded data removed]",
            "text/plain": [
              "<matplotlib.figure.Figure at 0x7f3ca45cadd8>"
            ]
          },
          "metadata": {
            "tags": []
          }
        }
      ]
    },
    {
      "metadata": {
        "id": "N7FACMB6AUUl",
        "colab_type": "code",
        "colab": {}
      },
      "cell_type": "code",
      "source": [
        "# Number of clusters\n",
        "kmeans = KMeans(n_clusters=3)\n",
        "# Fitting the input data\n",
        "kmeans = kmeans.fit(X)\n",
        "# Getting the cluster labels\n",
        "labels = kmeans.predict(X)\n",
        "# Centroid values\n",
        "centroids = kmeans.cluster_centers_"
      ],
      "execution_count": 0,
      "outputs": []
    },
    {
      "metadata": {
        "id": "CygFHIdYAiQt",
        "colab_type": "code",
        "colab": {}
      },
      "cell_type": "code",
      "source": [
        "k = 3\n",
        "C_x = np.random.randint(0, np.max(X)-20, size=k)\n",
        "# Y coordinates of random centroids\n",
        "C_y = np.random.randint(0, np.max(X)-20, size=k)\n",
        "C = np.array(list(zip(C_x, C_y)), dtype=np.float32)"
      ],
      "execution_count": 0,
      "outputs": []
    },
    {
      "metadata": {
        "id": "NnyexLBgAXJ6",
        "colab_type": "code",
        "outputId": "d52ed1dc-f362-41f4-c2d8-4d6d8866da7a",
        "colab": {
          "base_uri": "https://localhost:8080/",
          "height": 119
        }
      },
      "cell_type": "code",
      "source": [
        "print(C) # From Scratch\n",
        "print(centroids) # From sci-kit learn"
      ],
      "execution_count": 0,
      "outputs": [
        {
          "output_type": "stream",
          "text": [
            "[[15830. 53649.]\n",
            " [41364. 47619.]\n",
            " [50921. 21773.]]\n",
            "[[   212.30306664   3240.72568772]\n",
            " [-38613.43         3788.        ]\n",
            " [   122.25        55215.        ]]\n"
          ],
          "name": "stdout"
        }
      ]
    },
    {
      "metadata": {
        "id": "T7H6YRhy427J",
        "colab_type": "code",
        "colab": {}
      },
      "cell_type": "code",
      "source": [
        "from sklearn.cluster import KMeans\n",
        "\n",
        "f3 = abt['salary'].values\n",
        "f4 = abt['lifetime_value'].values\n",
        "\n",
        "X=np.array(list(zip(f3,f4)))\n",
        "\n"
      ],
      "execution_count": 0,
      "outputs": []
    },
    {
      "metadata": {
        "id": "VilE_sZH62Ts",
        "colab_type": "code",
        "colab": {}
      },
      "cell_type": "code",
      "source": [
        "kmeans = KMeans(n_clusters=2, verbose=0).fit(X)\n",
        "kmeans.fit(X)\n",
        "y_kmeans = kmeans.predict(X)"
      ],
      "execution_count": 0,
      "outputs": []
    },
    {
      "metadata": {
        "id": "dMr-iqB142_x",
        "colab_type": "code",
        "outputId": "02f67e36-1797-4215-d3a3-dfda1edd4636",
        "colab": {
          "base_uri": "https://localhost:8080/",
          "height": 347
        }
      },
      "cell_type": "code",
      "source": [
        "plt.scatter(X[:, 0], X[:, 1], c=y_kmeans, s=50, cmap='viridis')\n",
        "\n",
        "centers = kmeans.cluster_centers_\n",
        "plt.scatter(centers[:, 0], centers[:, 1], c='black', s=200, alpha=0.5);\n",
        "\n"
      ],
      "execution_count": 0,
      "outputs": [
        {
          "output_type": "display_data",
          "data": {
            "image/png": "[encoded data removed]",
            "text/plain": [
              "<matplotlib.figure.Figure at 0x7f3ca46a82b0>"
            ]
          },
          "metadata": {
            "tags": []
          }
        }
      ]
    },
    {
      "metadata": {
        "id": "VUm11RdRCGMp",
        "colab_type": "code",
        "colab": {}
      },
      "cell_type": "code",
      "source": [
        ""
      ],
      "execution_count": 0,
      "outputs": []
    },
    {
      "metadata": {
        "id": "cVTIv1ubCGPT",
        "colab_type": "code",
        "colab": {}
      },
      "cell_type": "code",
      "source": [
        ""
      ],
      "execution_count": 0,
      "outputs": []
    },
    {
      "metadata": {
        "id": "JXqQXn8KCGRr",
        "colab_type": "code",
        "colab": {}
      },
      "cell_type": "code",
      "source": [
        "my_data =abt"
      ],
      "execution_count": 0,
      "outputs": []
    },
    {
      "metadata": {
        "id": "P-SFLEbBCGUb",
        "colab_type": "code",
        "colab": {}
      },
      "cell_type": "code",
      "source": [
        "from sklearn.preprocessing import StandardScaler\n",
        "# Standardizing the features\n",
        "my_data_complete = abt.dropna()\n",
        "\n",
        "my_scaler = StandardScaler().fit(my_data_complete[[\n",
        "                  'lifetime_value',\n",
        "                  'claims_rate',\n",
        "                  'salary',\n",
        "                  'area']])\n",
        "\n",
        "x = StandardScaler().fit_transform(my_data_complete[[\n",
        "                  'lifetime_value',\n",
        "                  'claims_rate',\n",
        "                  'salary',\n",
        "                  'area']])\n",
        "x = pd.DataFrame(x)\n",
        "x.columns = [\n",
        "                  'lifetime_value',\n",
        "                  'claims_rate',\n",
        "                  'salary',\n",
        "                  'area']"
      ],
      "execution_count": 0,
      "outputs": []
    },
    {
      "metadata": {
        "id": "wEQX5Re1D8Mz",
        "colab_type": "code",
        "colab": {}
      },
      "cell_type": "code",
      "source": [
        "kmeans = KMeans(n_clusters=5, verbose=0).fit(X)\n",
        "kmeans.fit(X)\n",
        "y_kmeans = kmeans.predict(X)"
      ],
      "execution_count": 0,
      "outputs": []
    },
    {
      "metadata": {
        "id": "Lhn46rsaEAhS",
        "colab_type": "code",
        "outputId": "1c453f1a-66c6-4af4-a2d5-967d20985482",
        "colab": {
          "base_uri": "https://localhost:8080/",
          "height": 554
        }
      },
      "cell_type": "code",
      "source": [
        "plt.scatter(X[:, 0], X[:, 1], c=y_kmeans, s=50, cmap='viridis')\n",
        "\n",
        "centers = kmeans.cluster_centers_\n",
        "plt.scatter(centers[:, 0], centers[:, 1], c='black', s=200, alpha=0.5)\n",
        "plt.legend()\n",
        "plt.grid(True)"
      ],
      "execution_count": 0,
      "outputs": [
        {
          "output_type": "stream",
          "text": [
            "No handles with labels found to put in legend.\n"
          ],
          "name": "stderr"
        },
        {
          "output_type": "display_data",
          "data": {
            "image/png": "[encoded data removed]",
            "text/plain": [
              "<matplotlib.figure.Figure at 0x7f3ca479c5f8>"
            ]
          },
          "metadata": {
            "tags": []
          }
        }
      ]
    },
    {
      "metadata": {
        "id": "lMI45xvuDAEw",
        "colab_type": "code",
        "outputId": "43919f91-03e9-493d-966b-8a0c5ec5b164",
        "colab": {
          "base_uri": "https://localhost:8080/",
          "height": 136
        }
      },
      "cell_type": "code",
      "source": [
        "from sklearn.decomposition import PCA\n",
        "#pca = PCA(n_components= my_data_complete.shape[1])\n",
        "pca = PCA(n_components= 4)\n",
        "principalComponents = pca.fit_transform(x)\n",
        "\n",
        "pca.explained_variance_ratio_\n",
        "\n",
        "pca.inverse_transform(principalComponents)"
      ],
      "execution_count": 0,
      "outputs": [
        {
          "output_type": "execute_result",
          "data": {
            "text/plain": [
              "array([[ 0.30708885, -0.30690965, -1.01020457,  0.22242582],\n",
              "       [-0.20875189,  0.20242417, -0.71051934,  1.01417591],\n",
              "       [-0.24939507,  0.23779458,  0.88330837,  1.01417591],\n",
              "       ...,\n",
              "       [-0.18513438,  0.17412785, -0.06552205, -0.56932426],\n",
              "       [ 1.18560757, -0.50498391, -0.85051071,  0.22242582],\n",
              "       [ 0.32603552, -0.35642821, -0.34550479, -1.36107435]])"
            ]
          },
          "metadata": {
            "tags": []
          },
          "execution_count": 281
        }
      ]
    },
    {
      "metadata": {
        "id": "Nisk-nDZ43Ca",
        "colab_type": "code",
        "outputId": "abb144fa-a02a-45b2-e036-bb2d181fb6d0",
        "colab": {
          "base_uri": "https://localhost:8080/",
          "height": 34
        }
      },
      "cell_type": "code",
      "source": [
        "from sklearn.cluster import KMeans\n",
        "\n",
        "origPCA = pd.DataFrame(principalComponents)\n",
        "\n",
        "\n",
        "to_clust = pd.concat((x, \n",
        "                     origPCA.iloc[:,0:2]), \n",
        "                     axis = 1)\n",
        "\n",
        "my_data_complete = my_data.dropna()\n",
        "\n",
        "\n",
        "\n",
        "kmeans = KMeans(n_clusters=3, \n",
        "                random_state=0,\n",
        "                n_init = 5,\n",
        "                max_iter = 200).fit(to_clust)\n",
        "\n",
        "\n",
        "kmeans.inertia_"
      ],
      "execution_count": 0,
      "outputs": [
        {
          "output_type": "execute_result",
          "data": {
            "text/plain": [
              "11812.044189011878"
            ]
          },
          "metadata": {
            "tags": []
          },
          "execution_count": 282
        }
      ]
    },
    {
      "metadata": {
        "id": "UCnXdYheC2z8",
        "colab_type": "code",
        "outputId": "64c4f4e8-7ef2-40af-b3a6-f9f3470b6964",
        "colab": {
          "base_uri": "https://localhost:8080/",
          "height": 119
        }
      },
      "cell_type": "code",
      "source": [
        "#Check the clusters\n",
        "my_clusters = pd.DataFrame(kmeans.cluster_centers_)\n",
        "#becase I've used 2 PCAs\n",
        "my_clusters = my_clusters.iloc[:,:-2]\n",
        "\n",
        "#my_scaler has the fit parameters\n",
        "my_scaler.inverse_transform(X = my_clusters)"
      ],
      "execution_count": 0,
      "outputs": [
        {
          "output_type": "execute_result",
          "data": {
            "text/plain": [
              "array([[ 2.16799403e+02,  6.80065253e-01,  3.31454127e+03,\n",
              "         3.67145188e+00],\n",
              "       [-3.86134300e+04,  5.47666667e+01,  3.78800000e+03,\n",
              "         2.66666667e+00],\n",
              "       [ 2.05719833e+02,  6.85903672e-01,  3.15781688e+03,\n",
              "         1.32713400e+00]])"
            ]
          },
          "metadata": {
            "tags": []
          },
          "execution_count": 283
        }
      ]
    },
    {
      "metadata": {
        "id": "cj1mZ8_CC219",
        "colab_type": "code",
        "colab": {}
      },
      "cell_type": "code",
      "source": [
        ""
      ],
      "execution_count": 0,
      "outputs": []
    },
    {
      "metadata": {
        "id": "6WhxR7PPDhbs",
        "colab_type": "code",
        "colab": {}
      },
      "cell_type": "code",
      "source": [
        ""
      ],
      "execution_count": 0,
      "outputs": []
    },
    {
      "metadata": {
        "id": "hUQJuj2GSRlU",
        "colab_type": "text"
      },
      "cell_type": "markdown",
      "source": [
        "# DBSCAN"
      ]
    },
    {
      "metadata": {
        "id": "b4Y9lEW0StwA",
        "colab_type": "code",
        "outputId": "f3db971b-2ed8-405c-9dba-ef2f3527e901",
        "colab": {
          "base_uri": "https://localhost:8080/",
          "height": 85
        }
      },
      "cell_type": "code",
      "source": [
        "abt.columns"
      ],
      "execution_count": 0,
      "outputs": [
        {
          "output_type": "execute_result",
          "data": {
            "text/plain": [
              "Index(['CustID', 'first_policy', 'birthday', 'education', 'salary', 'area',\n",
              "       'children', 'lifetime_value', 'claims_rate', 'motor', 'household',\n",
              "       'health', 'life', 'work_compensation', 'timeBetweenFPandBD'],\n",
              "      dtype='object')"
            ]
          },
          "metadata": {
            "tags": []
          },
          "execution_count": 41
        }
      ]
    },
    {
      "metadata": {
        "id": "V4ejHmqwYQPk",
        "colab_type": "code",
        "colab": {}
      },
      "cell_type": "code",
      "source": [
        "from scipy.cluster.hierarchy import dendrogram\n",
        "from scipy.cluster.hierarchy import linkage\n",
        "\n",
        "test = abt[['salary','health','life','motor','household','claims_rate']]\n",
        "\n",
        " \n",
        "#test = StandardScaler().fit_transform(test)\n",
        "#To reverse\n",
        "\n",
        "\n",
        "test = StandardScaler().fit_transform(test)\n",
        "\n",
        "#https://docs.scipy.org/doc/scipy/reference/generated/scipy.cluster.hierarchy.linkage.html\n",
        "Z = linkage(test,\n",
        "            method = 'ward')#method='single, complete"
      ],
      "execution_count": 0,
      "outputs": []
    },
    {
      "metadata": {
        "id": "FQ6ONfnpZI7N",
        "colab_type": "code",
        "outputId": "c1118fa9-47eb-4f86-c69c-cbc5bd30217f",
        "colab": {
          "base_uri": "https://localhost:8080/",
          "height": 390
        }
      },
      "cell_type": "code",
      "source": [
        "dendrogram(Z,\n",
        "           #truncate_mode='none',\n",
        "           truncate_mode='lastp',\n",
        "           p=20,\n",
        "           orientation = 'top',\n",
        "           leaf_rotation=45.,\n",
        "           leaf_font_size=10.,\n",
        "           show_contracted=True,\n",
        "           show_leaf_counts=True)\n",
        "\n",
        "# =============================================================================\n",
        "# hierarchy.set_link_color_palette(['c', 'm', 'y', 'g','b','r','k'])\n",
        "# \n",
        "# dendrogram(Z,\n",
        "#            #truncate_mode='none',\n",
        "#            truncate_mode='lastp',\n",
        "#            p=40,\n",
        "#            orientation = 'top',\n",
        "#            leaf_rotation=45.,\n",
        "#            leaf_font_size=10.,\n",
        "#            show_contracted=True,\n",
        "#            show_leaf_counts=True, color_threshold=50, above_threshold_color='k')\n",
        "# =============================================================================\n",
        "\n",
        "\n",
        "plt.title('Truncated Hierarchical Clustering Dendrogram')\n",
        "plt.xlabel('Cluster Size')\n",
        "plt.ylabel('Distance')\n",
        "\n",
        "#plt.axhline(y=50)\n",
        "plt.axhline(y=61)\n",
        "\n",
        "\n",
        "plt.show()\n"
      ],
      "execution_count": 0,
      "outputs": [
        {
          "output_type": "display_data",
          "data": {
            "image/png": "[encoded data removed]",
            "text/plain": [
              "<matplotlib.figure.Figure at 0x7fefec405ba8>"
            ]
          },
          "metadata": {
            "tags": []
          }
        }
      ]
    },
    {
      "metadata": {
        "id": "9Cs6Z-RJSt3_",
        "colab_type": "code",
        "colab": {}
      },
      "cell_type": "code",
      "source": [
        "from sklearn.cluster import DBSCAN\n",
        "from sklearn import metrics\n",
        "from sklearn.datasets.samples_generator import make_blobs\n",
        "from sklearn.preprocessing import StandardScaler\n",
        "\n",
        "X = StandardScaler().fit_transform()\n",
        "\n",
        "# Test with Blobs Generate sample data\n",
        "#centers = [[1, 1], [-1, -1], [1, -1]]\n",
        "#X, labels_true = make_blobs(n_samples=750, centers=centers, cluster_std=0.4,random_state=0)\n",
        "\n",
        "#X = StandardScaler().fit_transform(X)"
      ],
      "execution_count": 0,
      "outputs": []
    },
    {
      "metadata": {
        "id": "5mw9gScIDheH",
        "colab_type": "code",
        "colab": {}
      },
      "cell_type": "code",
      "source": [
        "# Compute DBSCAN\n",
        "db = DBSCAN(eps=0.3, min_samples=10).fit(X)\n",
        "core_samples_mask = np.zeros_like(db.labels_, dtype=bool)\n",
        "core_samples_mask[db.core_sample_indices_] = True\n",
        "labels = db.labels_"
      ],
      "execution_count": 0,
      "outputs": []
    },
    {
      "metadata": {
        "id": "TY0sPFgFTvHt",
        "colab_type": "code",
        "outputId": "cc15c8ee-f436-467a-c9f7-414ada4f78e6",
        "colab": {
          "base_uri": "https://localhost:8080/",
          "height": 136
        }
      },
      "cell_type": "code",
      "source": [
        "# Number of clusters in labels, ignoring noise if present.\n",
        "\n",
        "n_clusters_ = len(set(labels)) - (1 if -1 in labels else 0)\n",
        "\n",
        "print('Estimated number of clusters: %d' % n_clusters_)\n",
        "print(\"Homogeneity: %0.3f\" % metrics.homogeneity_score(labels_true, labels))\n",
        "print(\"Completeness: %0.3f\" % metrics.completeness_score(labels_true, labels))\n",
        "print(\"V-measure: %0.3f\" % metrics.v_measure_score(labels_true, labels))\n",
        "print(\"Adjusted Rand Index: %0.3f\"\n",
        "      % metrics.adjusted_rand_score(labels_true, labels))\n",
        "print(\"Adjusted Mutual Information: %0.3f\"\n",
        "      % metrics.adjusted_mutual_info_score(labels_true, labels))\n",
        "print(\"Silhouette Coefficient: %0.3f\"\n",
        "      % metrics.silhouette_score(X, labels))\n"
      ],
      "execution_count": 0,
      "outputs": [
        {
          "output_type": "stream",
          "text": [
            "Estimated number of clusters: 3\n",
            "Homogeneity: 0.953\n",
            "Completeness: 0.883\n",
            "V-measure: 0.917\n",
            "Adjusted Rand Index: 0.952\n",
            "Adjusted Mutual Information: 0.883\n",
            "Silhouette Coefficient: 0.626\n"
          ],
          "name": "stdout"
        }
      ]
    },
    {
      "metadata": {
        "id": "61ZwdITsURyE",
        "colab_type": "code",
        "outputId": "e2c34103-5179-4768-9b01-ee4803404214",
        "colab": {
          "base_uri": "https://localhost:8080/",
          "height": 362
        }
      },
      "cell_type": "code",
      "source": [
        "unique_labels = set(labels)\n",
        "colors = [plt.cm.Spectral(each)\n",
        "          for each in np.linspace(0, 1, len(unique_labels))]\n",
        "for k, col in zip(unique_labels, colors):\n",
        "    if k == -1:\n",
        "        # Black used for noise.\n",
        "        col = [0, 0, 0, 1]\n",
        "\n",
        "    class_member_mask = (labels == k)\n",
        "\n",
        "    xy = X[class_member_mask & core_samples_mask]\n",
        "    plt.plot(xy[:, 0], xy[:, 1], 'o', markerfacecolor=tuple(col),\n",
        "             markeredgecolor='k', markersize=14)\n",
        "\n",
        "    xy = X[class_member_mask & ~core_samples_mask]\n",
        "    plt.plot(xy[:, 0], xy[:, 1], 'o', markerfacecolor=tuple(col),\n",
        "             markeredgecolor='k', markersize=6)\n",
        "\n",
        "plt.title('Estimated number of clusters: %d' % n_clusters_)\n",
        "plt.show()"
      ],
      "execution_count": 0,
      "outputs": [
        {
          "output_type": "display_data",
          "data": {
            "image/png": "[encoded data removed]",
            "text/plain": [
              "<matplotlib.figure.Figure at 0x7fefec508dd8>"
            ]
          },
          "metadata": {
            "tags": []
          }
        }
      ]
    },
    {
      "metadata": {
        "id": "BGdicZq4jRNI",
        "colab_type": "text"
      },
      "cell_type": "markdown",
      "source": [
        "# ***MEAN SHIFT CLUSTERING***\n",
        "\n",
        "\n",
        "```\n",
        "\n",
        "```\n",
        "\n"
      ]
    },
    {
      "metadata": {
        "id": "LNIW9WYLjUWD",
        "colab_type": "code",
        "outputId": "44765e55-cc98-415f-a03d-21c2fb5d41f4",
        "colab": {
          "base_uri": "https://localhost:8080/",
          "height": 381
        }
      },
      "cell_type": "code",
      "source": [
        "##meanshift clustering\n",
        "\n",
        "\n",
        "import numpy as np\n",
        "from sklearn.cluster import MeanShift, estimate_bandwidth\n",
        "from sklearn.datasets.samples_generator import make_blobs\n",
        "\n",
        "# #############################################################################\n",
        "# Generate sample data\n",
        "centers = [[1, 1], [-1, -1], [1, -1]]\n",
        "X, _ = make_blobs(n_samples=200, centers=centers, cluster_std=0.6)\n",
        "\n",
        "# #############################################################################\n",
        "# Compute clustering with MeanShift\n",
        "\n",
        "# The following bandwidth can be automatically detected using\n",
        "bandwidth = estimate_bandwidth(X, quantile=0.2, n_samples=50)\n",
        "\n",
        "ms = MeanShift(bandwidth=bandwidth, bin_seeding=True)\n",
        "ms.fit(X)\n",
        "labels = ms.labels_\n",
        "cluster_centers = ms.cluster_centers_\n",
        "\n",
        "labels_unique = np.unique(labels)\n",
        "n_clusters_ = len(labels_unique)\n",
        "\n",
        "print(\"number of estimated clusters : %d\" % n_clusters_)\n",
        "\n",
        "# #############################################################################\n",
        "# Plot result\n",
        "import matplotlib.pyplot as plt\n",
        "from itertools import cycle\n",
        "\n",
        "plt.figure(1)\n",
        "plt.clf()\n",
        "\n",
        "colors = cycle('bgrcmykbgrcmykbgrcmykbgrcmyk')\n",
        "for k, col in zip(range(n_clusters_), colors):\n",
        "    my_members = labels == k\n",
        "    cluster_center = cluster_centers[k]\n",
        "    plt.plot(X[my_members, 0], X[my_members, 1], col + '.')\n",
        "    plt.plot(cluster_center[0], cluster_center[1], 'o', markerfacecolor=col,\n",
        "             markeredgecolor='k', markersize=14)\n",
        "plt.title('Estimated number of clusters: %d' % n_clusters_)\n",
        "plt.show()"
      ],
      "execution_count": 0,
      "outputs": [
        {
          "output_type": "stream",
          "text": [
            "number of estimated clusters : 3\n"
          ],
          "name": "stdout"
        },
        {
          "output_type": "display_data",
          "data": {
            "image/png": "[encoded data removed]",
            "text/plain": [
              "<matplotlib.figure.Figure at 0x7f8b2e077278>"
            ]
          },
          "metadata": {
            "tags": []
          }
        }
      ]
    },
    {
      "metadata": {
        "id": "CwO5iuPAHZbz",
        "colab_type": "code",
        "outputId": "3b126150-6f13-4f88-8455-15c95f0871f8",
        "colab": {
          "base_uri": "https://localhost:8080/",
          "height": 398
        }
      },
      "cell_type": "code",
      "source": [
        "###Hierarchical Clustering with Mean Shift \n",
        "\n",
        "import numpy as np\n",
        "from sklearn.cluster import MeanShift\n",
        "from sklearn.datasets.samples_generator import make_blobs\n",
        "import matplotlib.pyplot as plt\n",
        "from mpl_toolkits.mplot3d import Axes3D\n",
        "from matplotlib import style\n",
        "style.use(\"ggplot\")\n",
        "\n",
        "centers = [[1,1,1],[5,5,5],[3,10,10]]\n",
        "\n",
        "X, _ = make_blobs(n_samples = 100, centers = centers, cluster_std = 1.5)\n",
        "\n",
        "ms = MeanShift()\n",
        "ms.fit(X)\n",
        "labels = ms.labels_\n",
        "cluster_centers = ms.cluster_centers_\n",
        "\n",
        "print(cluster_centers)\n",
        "n_clusters_ = len(np.unique(labels))\n",
        "print(\"Number of estimated clusters:\", n_clusters_)\n",
        "\n",
        "colors = 10*['r','g','b','c','k','y','m']\n",
        "fig = plt.figure()\n",
        "ax = fig.add_subplot(111, projection='3d')\n",
        "\n",
        "for i in range(len(X)):\n",
        "    ax.scatter(X[i][0], X[i][1], X[i][2], c=colors[labels[i]], marker='o')\n",
        "\n",
        "ax.scatter(cluster_centers[:,0],cluster_centers[:,1],cluster_centers[:,2],\n",
        "            marker=\"x\",color='k', s=150, linewidths = 5, zorder=10)\n",
        "\n",
        "plt.show()"
      ],
      "execution_count": 0,
      "outputs": [
        {
          "output_type": "stream",
          "text": [
            "[[ 0.68571392  0.95982936  0.91514073]\n",
            " [ 4.88225772  5.2137602   5.00269969]\n",
            " [ 2.997442   10.10382867 10.02253098]]\n",
            "Number of estimated clusters: 3\n"
          ],
          "name": "stdout"
        },
        {
          "output_type": "display_data",
          "data": {
            "image/png": "[encoded data removed]",
            "text/plain": [
              "<matplotlib.figure.Figure at 0x7f8b2e2856a0>"
            ]
          },
          "metadata": {
            "tags": []
          }
        }
      ]
    }
  ]
}